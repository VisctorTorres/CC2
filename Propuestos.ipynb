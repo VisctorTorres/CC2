{
 "cells": [
  {
   "cell_type": "markdown",
   "metadata": {
    "colab_type": "text",
    "id": "cyHnKzqdeP73"
   },
   "source": [
    "<img src=\"escudo_utfsm.gif\" style=\"float:right;height:100px\">\n",
    "<img src=\"IsotipoDIisocolor.png\" style=\"float:left;height:100px\">\n",
    "<center>\n",
    "    <h1> ILI286 - Computación Científica II</h1>\n",
    "    <h1> Tarea 3: PDE Inpaiting </h1> \n",
    "    <h3>[V]íctor [T]orres [V]aras 201173076-3</h3>\n",
    "</center>\n",
    "<p>\n",
    "<center>Febrero 2020 - v1.0 </center>\n",
    "</p>\n",
    "\n",
    "---"
   ]
  },
  {
   "cell_type": "code",
   "execution_count": 1,
   "metadata": {},
   "outputs": [],
   "source": [
    "import numpy as np\n",
    "import scipy as sp\n",
    "import scipy.optimize \n",
    "\n",
    "import imutils\n",
    "import matplotlib.pyplot as plt\n",
    "from numpy import linalg\n",
    "from matplotlib.image import imread\n",
    "from PIL import Image\n",
    "from copy import deepcopy\n"
   ]
  },
  {
   "cell_type": "code",
   "execution_count": 67,
   "metadata": {},
   "outputs": [],
   "source": [
    "#Código obtenido del Repositorio de Jupyter Notebook del curso para euler y RK orden 4\n",
    "def euler_ode(y,m,x,f,h):\n",
    "    return y+h*f(m,x)\n",
    "\n",
    "def euler_ode_dinamico(r,f,h):\n",
    "    #print(\"aca w\",w)\n",
    "    w1=r[:]\n",
    "    w=r[:]\n",
    "    w[0] = w1[0]+h*w1[1]\n",
    "    w[1] = w1[1]+h*f(w1)\n",
    "    #print(\"aca w nuevo\",w)\n",
    "    return w\n",
    "\n",
    "\n",
    "def RK4_ode(y,m,x,f,h):\n",
    "    k1=f(m,x)\n",
    "    k2=f(m,x+(h/2.0)*k1)\n",
    "    k3=f(m,x+(h/2.0)*k2)\n",
    "    k4=f(m,x+h*k3)\n",
    "    return y+(h/6.0)*(k1+2.0*k2+2.0*k3+k4)"
   ]
  },
  {
   "cell_type": "markdown",
   "metadata": {},
   "source": [
    "Ejercicio 3.28 EDO "
   ]
  },
  {
   "cell_type": "code",
   "execution_count": 119,
   "metadata": {},
   "outputs": [],
   "source": [
    "#Sistema Dinamico\n",
    "#Lo primero que hacemos es definir la funcion que usaremos, en este caso el Sistema dinamico \n",
    "def funcion(w):\n",
    "    m=1\n",
    "    c=2\n",
    "    k=50\n",
    "    fuerza = -(w[1]*c + k*w[0])/m\n",
    "    return fuerza\n",
    "#La funcion la usaremnos para luego evaluar Euler\n",
    "#Creamos el algoritmo para resolver\n",
    "def solver_edo(y0,v0,N,T):\n",
    "    h=T/N\n",
    "    y=y0\n",
    "    v=v0\n",
    "    t = np.zeros((N,2))#2 es la cantidad de w que se tiene y N es la cantidad de puntos a iterar\n",
    "    #t[1,0]=y\n",
    "    #t[1,1]=v\n",
    "    t[0,]=[y,v]\n",
    "    for j in range(1,N):\n",
    "        #print(\"-----iteracion j\",j)\n",
    "        #print(\"valor t\",t)\n",
    "        r= deepcopy(t[j-1])\n",
    "        t[j,] = euler_ode_dinamico(r,funcion,h) \n",
    "        #print(\"valor segundo t\",t)\n",
    "    return t"
   ]
  },
  {
   "cell_type": "code",
   "execution_count": 175,
   "metadata": {},
   "outputs": [
    {
     "name": "stdout",
     "output_type": "stream",
     "text": [
      "[[ 2.00000000e+00  1.00000000e-01]\n",
      " [ 2.02000000e+00 -2.01400000e+01]\n",
      " [-2.00800000e+00  7.99600000e+00]\n",
      " [-4.08800000e-01  8.88560000e+00]\n",
      " [ 1.36832000e+00 -8.35184000e+00]\n",
      " [-3.02048000e-01 -1.99062400e+00]\n",
      " [-7.00172800e-01  5.80735360e+00]\n",
      " [ 4.61297920e-01 -1.12856704e+00]\n",
      " [ 2.35584512e-01 -3.03298534e+00]\n",
      " [-3.71012557e-01  1.89033436e+00]\n",
      " [ 7.05431552e-03  1.06365746e+00]\n",
      " [ 2.19785808e-01 -1.55966360e+00]\n",
      " [-9.21469125e-02 -1.43290364e-02]\n",
      " [-9.50127197e-02  9.41529776e-01]\n",
      " [ 9.32932354e-02 -3.68014488e-01]\n",
      " [ 1.96903377e-02 -4.17712070e-01]\n",
      " [-6.38520763e-02  3.87893521e-01]\n",
      " [ 1.37266279e-02  9.54698336e-02]\n",
      " [ 3.28205946e-02 -2.70924046e-01]\n",
      " [-2.13642146e-02  5.10877183e-02]\n",
      " [-1.11466709e-02  1.42119340e-01]\n",
      " [ 1.72771971e-02 -8.75003671e-02]\n",
      " [-2.22876290e-04 -5.02714574e-02]\n",
      " [-1.02771678e-02  7.26088032e-02]\n",
      " [ 4.24459288e-03  1.11935313e-03]\n",
      " [ 4.46846351e-03 -4.40130232e-02]\n",
      " [-4.33414113e-03  1.69335974e-02]\n",
      " [-9.47421651e-04  1.96343749e-02]\n",
      " [ 2.97945334e-03 -1.80139084e-02]\n",
      " [-6.23328344e-04 -4.57506160e-03]\n",
      " [-1.53834067e-03  1.26383697e-02]\n",
      " [ 9.89333273e-04 -2.31031091e-03]\n",
      " [ 5.27271090e-04 -6.65889745e-03]\n",
      " [-8.04508400e-04  4.04974553e-03]\n",
      " [ 5.44070583e-06  2.37544026e-03]\n",
      " [ 4.80528757e-04 -3.38002342e-03]\n",
      " [-1.95475926e-04 -7.32547870e-05]\n",
      " [-2.10126884e-04  2.05731597e-03]\n",
      " [ 2.01336309e-04 -7.78973514e-04]\n",
      " [ 4.55416065e-05 -9.22800174e-04]\n",
      " [-1.39018428e-04  8.36504178e-04]\n",
      " [ 2.82824074e-05  2.19078433e-04]\n",
      " [ 7.20980940e-05 -5.89533880e-04]\n",
      " [-4.58086820e-05  1.04366492e-04]\n",
      " [-2.49353836e-05  3.11973731e-04]\n",
      " [ 3.74593627e-05 -1.87409388e-04]\n",
      " [-2.25149065e-08 -1.12220484e-04]\n",
      " [-2.24666116e-05  1.57333826e-04]\n",
      " [ 9.00015360e-06  4.39875972e-06]\n",
      " [ 9.87990554e-06 -9.61597996e-05]]\n"
     ]
    }
   ],
   "source": [
    "p = solver_edo(2,0.1,50,10)\n",
    "print(p)"
   ]
  },
  {
   "cell_type": "code",
   "execution_count": 176,
   "metadata": {},
   "outputs": [
    {
     "data": {
      "text/plain": [
       "<matplotlib.legend.Legend at 0x21c1370e1c8>"
      ]
     },
     "execution_count": 176,
     "metadata": {},
     "output_type": "execute_result"
    },
    {
     "data": {
      "image/png": "[encoded data removed]",
      "text/plain": [
       "<Figure size 432x288 with 1 Axes>"
      ]
     },
     "metadata": {
      "needs_background": "light"
     },
     "output_type": "display_data"
    }
   ],
   "source": [
    "plt.plot(p[:,1] ,'-bo', label='Posicion')\n",
    "plt.plot(p[:,0] ,'-ro', label='Velocidad')\n",
    "plt.legend(loc='upper right')"
   ]
  },
  {
   "cell_type": "markdown",
   "metadata": {},
   "source": [
    "Ejercicio 4.18 EDP\n"
   ]
  },
  {
   "cell_type": "code",
   "execution_count": null,
   "metadata": {},
   "outputs": [],
   "source": []
  }
 ],
 "metadata": {
  "colab": {
   "collapsed_sections": [],
   "name": "Tarea4.ipynb",
   "provenance": [],
   "version": "0.3.2"
  },
  "kernelspec": {
   "display_name": "Python 3",
   "language": "python",
   "name": "python3"
  },
  "language_info": {
   "codemirror_mode": {
    "name": "ipython",
    "version": 3
   },
   "file_extension": ".py",
   "mimetype": "text/x-python",
   "name": "python",
   "nbconvert_exporter": "python",
   "pygments_lexer": "ipython3",
   "version": "3.7.6"
  }
 },
 "nbformat": 4,
 "nbformat_minor": 1
}
