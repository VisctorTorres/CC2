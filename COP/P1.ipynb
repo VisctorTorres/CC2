{
 "cells": [
  {
   "cell_type": "markdown",
   "metadata": {
    "colab_type": "text",
    "id": "cyHnKzqdeP73"
   },
   "source": [
    "<img src=\"escudo_utfsm.gif\" style=\"float:right;height:100px\">\n",
    "<img src=\"IsotipoDIisocolor.png\" style=\"float:left;height:100px\">\n",
    "<center>\n",
    "    <h1> ILI286 - Computación Científica II</h1>\n",
    "    <h1> Pregunta 1 </h1> \n",
    "    <h3>[V]íctor [T]orres [V]aras 201173076-3</h3>\n",
    "</center>\n",
    "<p>\n",
    "<center>Febrero 2020 - v1.0 </center>\n",
    "</p>\n",
    "\n",
    "---"
   ]
  },
  {
   "cell_type": "code",
   "execution_count": 11,
   "metadata": {},
   "outputs": [],
   "source": [
    "import numpy as np\n",
    "import scipy as sp\n",
    "import scipy.optimize \n",
    "from scipy.linalg import toeplitz\n",
    "import imutils\n",
    "import matplotlib.pyplot as plt\n",
    "from numpy import linalg\n",
    "from matplotlib.image import imread\n",
    "from PIL import Image\n",
    "from copy import deepcopy\n",
    "\n",
    "import ipywidgets \n",
    "\n",
    "import numpy as np\n",
    "from matplotlib import pyplot as plt\n",
    "import math\n",
    "import time\n",
    "%matplotlib inline\n",
    "from ipywidgets import interact\n",
    "import inspect"
   ]
  },
  {
   "cell_type": "code",
   "execution_count": 12,
   "metadata": {},
   "outputs": [],
   "source": [
    "#Codigo de los Jupyter del Notebook del curso \n",
    "alpha=-1.\n",
    "N=100\n",
    "\n",
    "def shooting_method_101(alpha=-1, N=50, I=4, y0=1, yn=3):\n",
    "    T=1.0\n",
    "    h=T/(N-1.)\n",
    "    t_times = np.linspace(0,T,num=N)\n",
    "    y_output = np.zeros([t_times.size,2])\n",
    "    y_output[0,:] = [y0,alpha]\n",
    "    for i in range(1,t_times.size):\n",
    "        y_output[i,:]=euler_ode(y_output[i-1,:],t_times[i-1],my_f,h)\n",
    "    \n",
    "    fig = plt.figure(figsize=(L/2,L/2))\n",
    "    ax = fig.gca()\n",
    "    plt.grid(True)\n",
    "    plt.title(\"Numerical Approximation\")\n",
    "    plt.plot(t_times,y_output[:,0],'rd',ms=12,alpha=0.5,label='y: actual solution')\n",
    "    plt.plot(t_times,y_output[:,1],'m.',ms=12,alpha=0.5,label='$\\dot{y}$: derivative of solution')\n",
    "    \n",
    "    # Solving by Finite Difference\n",
    "    t_FD, w_FD, _ = solve_finite_difference_eq(I,y0,yn)\n",
    "    plt.plot(t_FD,w_FD,'.',ms=20,alpha=1)\n",
    "    \n",
    "    # Plotting distance to be reduced, so the missing initial condition is found.\n",
    "    plt.plot([t_FD[-1],t_times[-1]],[w_FD[-1],y_output[-1,0]],'g-',label='Difference to be reduced')\n",
    "    \n",
    "    plt.plot(0,1,'.k',ms=12,label='Left Boundary Condition')\n",
    "    plt.plot(1,3,'.k',ms=12,label='Right Boundary Condition')\n",
    "    \n",
    "    plt.legend()\n",
    "\n",
    "#interact(shooting_method_101,alpha=(-2,2,0.1),N=(10,200,10),I=(3,20), y0=(-5,5,0.1),yn=(-5,5,0.1))\n",
    "\n",
    "\n",
    "def trapezoid(myfun, N, a, b, verbose=False, text='', figname=''):\n",
    "    f = np.vectorize(myfun) # So we can apply it to arrays without trouble\n",
    "    x = np.linspace(a, b, N+1) # We want N bins, so N+1 points  \n",
    "    h = x[1]-x[0]\n",
    "    xleft = x[:-1]\n",
    "    xright = x[1:]\n",
    "    int_val = 0.5*h*sum(f(xleft)+f(xright))\n",
    "    if verbose:\n",
    "        xbin = x\n",
    "        ybin = f(x) \n",
    "        #plot(f, xbin, ybin, int_val, N, text, figname)\n",
    "    return int_val\n",
    "\n",
    "N = 40\n",
    "#myfun = lambda x : x**2\n",
    "#print('Approximated sum: {0}'.format(trapezoid(myfun, N, a, b, verbose=True, text=text, figname=\"trapezoid_%d.png\"%N)))"
   ]
  },
  {
   "cell_type": "code",
   "execution_count": 13,
   "metadata": {},
   "outputs": [],
   "source": [
    "#Funcion que se usara para calcular la integral\n",
    "funCos = lambda x : 20*np.cos(x)\n",
    "#Valor de la funcion utilizando el metodo del trapezoide    \n",
    "def func(x,u1,u2):\n",
    "    integral = trapezoid(funCos,100, u1,u2)\n",
    "    return -20*np.cos(integral*20)\n",
    "def euler_ode(y,m,x,f,h):\n",
    "    u1=-1\n",
    "    u2=2/3\n",
    "    return y+h*func(y,u1,u2)"
   ]
  },
  {
   "cell_type": "code",
   "execution_count": null,
   "metadata": {},
   "outputs": [],
   "source": []
  },
  {
   "cell_type": "code",
   "execution_count": null,
   "metadata": {},
   "outputs": [],
   "source": []
  }
 ],
 "metadata": {
  "colab": {
   "collapsed_sections": [],
   "name": "Tarea4.ipynb",
   "provenance": [],
   "version": "0.3.2"
  },
  "kernelspec": {
   "display_name": "Python 3",
   "language": "python",
   "name": "python3"
  },
  "language_info": {
   "codemirror_mode": {
    "name": "ipython",
    "version": 3
   },
   "file_extension": ".py",
   "mimetype": "text/x-python",
   "name": "python",
   "nbconvert_exporter": "python",
   "pygments_lexer": "ipython3",
   "version": "3.7.6"
  }
 },
 "nbformat": 4,
 "nbformat_minor": 1
}
