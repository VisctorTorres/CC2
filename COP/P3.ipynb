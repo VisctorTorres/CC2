{
 "cells": [
  {
   "cell_type": "markdown",
   "metadata": {
    "colab_type": "text",
    "id": "cyHnKzqdeP73"
   },
   "source": [
    "<img src=\"escudo_utfsm.gif\" style=\"float:right;height:100px\">\n",
    "<img src=\"IsotipoDIisocolor.png\" style=\"float:left;height:100px\">\n",
    "<center>\n",
    "    <h1> ILI286 - Computación Científica II</h1>\n",
    "    <h1> Pregunta 3 </h1> \n",
    "    <h3>[V]íctor [T]orres [V]aras 201173076-3</h3>\n",
    "</center>\n",
    "<p>\n",
    "<center>Febrero 2020 - v1.0 </center>\n",
    "</p>\n",
    "\n",
    "---"
   ]
  },
  {
   "cell_type": "code",
   "execution_count": 19,
   "metadata": {},
   "outputs": [],
   "source": [
    "import numpy as np\n",
    "import scipy as sp\n",
    "import scipy.optimize \n",
    "from scipy.linalg import toeplitz\n",
    "import imutils\n",
    "import matplotlib.pyplot as plt\n",
    "from numpy import linalg\n",
    "from matplotlib.image import imread\n",
    "from PIL import Image\n",
    "from copy import deepcopy\n",
    "\n",
    "import ipywidgets \n",
    "\n",
    "import numpy as np\n",
    "from matplotlib import pyplot as plt\n",
    "import math\n",
    "import time\n",
    "%matplotlib inline\n",
    "from ipywidgets import interact\n",
    "import inspect\n",
    "\n"
   ]
  },
  {
   "cell_type": "markdown",
   "metadata": {},
   "source": [
    "Pregunta 3"
   ]
  },
  {
   "cell_type": "code",
   "execution_count": 20,
   "metadata": {},
   "outputs": [],
   "source": [
    "#Código modificado del JupyterNotebook del Curso, U4_HeatEquation\n",
    "#evolve solo lo hace para una iteracion aplicando la ecuacion discretizada, esto para u que contiene los nan y los bordes\n",
    "#Luego se retorna la u_new que seria la modificacion de u_old.\n",
    "\n",
    "def evolve(u_new, u_old, dt, dx2, dy2):\n",
    "    u_new[1:-1]  = u_old[1:-1]\n",
    "    u_new[1:-1] += (dt/dx2) * (u_old[2:] - 2*u_old[1:-1] + u_old[:-2])\n",
    "    u_new[1:-1] += dt * (u_old[1:-1] - (u_old[1:-1]**3))\n",
    "    u_new[1:-1] += u_old[1:-1]\n",
    "\n",
    "    return u_new\n",
    "\n",
    "def solver(u0,Nx, Nt, num_steps=100):\n",
    "    dx = 1./Nx\n",
    "    dt = 1./Nt\n",
    "    dx2 = dx**2\n",
    "    dt2 = dy**2\n",
    "    u_aux = u0\n",
    "    u = u_aux\n",
    "    all_sims = np.zeros([num_steps, Nx])\n",
    " \n",
    "    for n in range(num_steps):\n",
    "        u = evolve(u, u_aux,dt, dx2, dt2)\n",
    "        u_aux = u\n",
    "        all_sims[n,:,:] = u\n",
    "        if np.linalg.norm(all_sims[n,:]-all_sims[n-1,:], 'fro') < 10e-10:\n",
    "            return all_sims[:n,:]\n",
    "    return all_sims\n",
    "#Uo contiene los valores con el borde a iterar\n",
    "\n",
    "        "
   ]
  },
  {
   "cell_type": "code",
   "execution_count": null,
   "metadata": {},
   "outputs": [],
   "source": [
    "u = np.zeros([0,80])\n",
    "u[0] = -1\n",
    "u[-1] = 1"
   ]
  }
 ],
 "metadata": {
  "colab": {
   "collapsed_sections": [],
   "name": "Tarea4.ipynb",
   "provenance": [],
   "version": "0.3.2"
  },
  "kernelspec": {
   "display_name": "Python 3",
   "language": "python",
   "name": "python3"
  },
  "language_info": {
   "codemirror_mode": {
    "name": "ipython",
    "version": 3
   },
   "file_extension": ".py",
   "mimetype": "text/x-python",
   "name": "python",
   "nbconvert_exporter": "python",
   "pygments_lexer": "ipython3",
   "version": "3.7.6"
  }
 },
 "nbformat": 4,
 "nbformat_minor": 1
}
